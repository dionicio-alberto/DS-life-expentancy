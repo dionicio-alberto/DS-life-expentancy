{
 "cells": [
  {
   "cell_type": "markdown",
   "metadata": {},
   "source": [
    "# **Introducción**\n",
    "\n",
    "La **distribución binomial** modela el número de éxitos en una secuencia de $ n $ ensayos independientes, donde cada ensayo tiene dos resultados posibles: éxito o fracaso. Se define por los parámetros:\n",
    "\n",
    "- $ n $: Número total de ensayos.\n",
    "- $ p $: Probabilidad de éxito en un solo ensayo.\n",
    "- $ X $: Variable aleatoria que representa el número de éxitos.\n",
    "\n",
    "La función de masa de probabilidad (PMF) de la distribución binomial está dada por:\n",
    "\n",
    "\\begin{equation}\n",
    "P(X = k) = \\binom{n}{k} p^k (1 - p)^{n - k}\n",
    "\\end{equation}\n",
    "\n",
    "donde $ \\binom{n}{k} $ es el coeficiente binomial:\n",
    "\n",
    "\\begin{equation}\n",
    "\\binom{n}{k} = \\frac{n!}{k!(n-k)!}\n",
    "\\end{equation}\n",
    "\n",
    "-----\n",
    "\n",
    "# **Ejemplo: Finanzas - Aceptación de una Oferta**\n",
    "\n",
    "Supongamos que se envían ofertas a $ n = 100 $ clientes y la probabilidad de que un cliente acepte la oferta es $ p = 0.2 $. Queremos calcular la probabilidad de que exactamente $ k = 25 $ clientes acepten la oferta.\n",
    "\n",
    "Aplicamos la fórmula de la distribución binomial:\n",
    "\n",
    "\\begin{equation}\n",
    "P(X = 25) = \\binom{100}{25} (0.2)^{25} (0.8)^{75}\n",
    "\\end{equation}\n",
    "\n",
    "En Python, podemos calcular esta probabilidad utilizando la función ``binom.pmf`` de ``scipy.stats``:\n"
   ]
  },
  {
   "cell_type": "markdown",
   "metadata": {},
   "source": [
    "\n",
    "## **Código en Python**\n",
    "\n",
    "``\n",
    "from scipy.stats import binom\n",
    "``\n",
    "\n",
    "### **Parámetros**\n",
    "- n = 100  # Número de clientes contactados\n",
    "- p = 0.2  # Probabilidad de aceptación por cliente\n",
    "- k = 25   # Número de clientes que aceptan la oferta\n",
    "\n",
    "### **Calcular la probabilidad de exactamente k clientes aceptando**\n",
    "```\n",
    "probabilidad = binom.pmf(k, n, p)\n",
    "\n",
    "print(f\"La probabilidad de que exactamente {k} clientes acepten la oferta es: {probabilidad:.4f}\")\n",
    "```"
   ]
  },
  {
   "cell_type": "code",
   "execution_count": 1,
   "metadata": {},
   "outputs": [
    {
     "name": "stdout",
     "output_type": "stream",
     "text": [
      "La probabilidad de que exactamente 25 clientes acepten la oferta es: 0.0439\n"
     ]
    }
   ],
   "source": [
    "from scipy.stats import binom\n",
    "\n",
    "# Parámetros\n",
    "n = 100  # Número de clientes contactados\n",
    "p = 0.2  # Probabilidad de aceptación por cliente\n",
    "k = 25   # Número de clientes que aceptan la oferta\n",
    "\n",
    "# Calcular la probabilidad de exactamente k clientes aceptando\n",
    "probabilidad = binom.pmf(k, n, p)\n",
    "\n",
    "print(f\"La probabilidad de que exactamente {k} clientes acepten la oferta es: {probabilidad:.4f}\")\n"
   ]
  },
  {
   "cell_type": "markdown",
   "metadata": {},
   "source": [
    "#### **Gráfica**\n",
    "\n",
    "Si queremos visualizar la distribución de probabilidad para distintos valores de $ k $, usamos ``Seaborn`` para graficar:\n",
    "\n",
    "```\n",
    "import numpy as np\n",
    "import seaborn as sns\n",
    "import matplotlib.pyplot as plt\n",
    "from scipy.stats import binom\n",
    "```\n",
    "\n",
    "#### **Valores posibles de k (clientes que aceptan**\n",
    "```\n",
    "k_values = np.arange(0, n+1)\n",
    "probabilidades = binom.pmf(k_values, n, p)\n",
    "```"
   ]
  },
  {
   "cell_type": "code",
   "execution_count": 11,
   "metadata": {},
   "outputs": [
    {
     "name": "stdout",
     "output_type": "stream",
     "text": [
      "porcentajes de los alumnos: \n",
      " [  0   1   2   3   4   5   6   7   8   9  10  11  12  13  14  15  16  17\n",
      "  18  19  20  21  22  23  24  25  26  27  28  29  30  31  32  33  34  35\n",
      "  36  37  38  39  40  41  42  43  44  45  46  47  48  49  50  51  52  53\n",
      "  54  55  56  57  58  59  60  61  62  63  64  65  66  67  68  69  70  71\n",
      "  72  73  74  75  76  77  78  79  80  81  82  83  84  85  86  87  88  89\n",
      "  90  91  92  93  94  95  96  97  98  99 100] \n",
      "\n",
      "primeras dos probabilidades: \n",
      " [2.03703598e-10 5.09258994e-09 6.30208005e-08 5.14669871e-07\n",
      " 3.12018609e-06 1.49768932e-05 5.92835358e-05 1.99023299e-04\n",
      " 5.78411462e-04 1.47816262e-03] \n",
      "\n"
     ]
    }
   ],
   "source": [
    "import numpy as np\n",
    "import seaborn as sns\n",
    "import matplotlib.pyplot as plt\n",
    "from scipy.stats import binom\n",
    "\n",
    "# Valores posibles de k (clientes que aceptan)\n",
    "k_values = np.arange(0, n+1)\n",
    "probabilidades = binom.pmf(k_values, n, p)\n",
    "\n",
    "print(f\"porcentajes de los alumnos: \\n\",k_values, \"\\n\")\n",
    "print(f\"primeras dos probabilidades: \\n\",probabilidades[:10],\"\\n\")"
   ]
  },
  {
   "cell_type": "markdown",
   "metadata": {},
   "source": [
    "\n",
    "#### **Crear el gráfico con Seaborn**\n",
    "```\n",
    "plt.figure(figsize=(10, 5))\n",
    "sns.barplot(x=k_values, y=probabilidades, color=\"royalblue\")\n",
    "```\n",
    "\n",
    "#### **Marcar el valor esperado (media)**\n",
    "```\n",
    "media = n * p\n",
    "plt.axvline(media, color='red', linestyle='--', label=f'Media: {media:.1f}')\n",
    "```\n",
    "\n",
    "#### **Personalizar gráfico**\n",
    "```\n",
    "plt.title(\"Distribución Binomial: Clientes que aceptan una oferta\", fontsize=14)\n",
    "plt.xlabel(\"Número de clientes que aceptan\", fontsize=12)\n",
    "plt.ylabel(\"Probabilidad\", fontsize=12)\n",
    "plt.legend()\n",
    "plt.xlim(0, 50)  # Mostrar solo hasta 50 para mejor visualización\n",
    "\n",
    "plt.show()\n",
    "```"
   ]
  },
  {
   "cell_type": "code",
   "execution_count": 12,
   "metadata": {},
   "outputs": [
    {
     "data": {
      "image/png": "[encoded data removed]",
      "text/plain": [
       "<Figure size 1000x500 with 1 Axes>"
      ]
     },
     "metadata": {},
     "output_type": "display_data"
    }
   ],
   "source": [
    "# Crear el gráfico con Seaborn\n",
    "plt.figure(figsize=(10, 5))\n",
    "sns.barplot(x=k_values, y=probabilidades, color=\"royalblue\")\n",
    "\n",
    "# Marcar el valor esperado (media)\n",
    "media = n * p\n",
    "plt.axvline(media, color='red', linestyle='--', label=f'Media: {media:.1f}')\n",
    "\n",
    "# Personalizar gráfico\n",
    "plt.title(\"Distribución Binomial: Clientes que aceptan una oferta\", fontsize=14)\n",
    "plt.xlabel(\"Número de clientes que aceptan\", fontsize=12)\n",
    "plt.ylabel(\"Probabilidad\", fontsize=12)\n",
    "plt.legend()\n",
    "plt.xlim(0, 50)  # Mostrar solo hasta 50 para mejor visualización\n",
    "\n",
    "plt.show()"
   ]
  },
  {
   "cell_type": "markdown",
   "metadata": {},
   "source": [
    "## **Interpretación del Gráfico**\n",
    "- La barra más alta indica el número más probable de clientes que aceptan la oferta.\n",
    "- La línea roja punteada representa la \\textbf{media esperada} $ E(X) = np = 20 $.\n",
    "- La probabilidad disminuye a medida que $ k $ se aleja de la media.\n",
    "\n",
    "## **Conclusión**\n",
    "Este análisis permite modelar situaciones en las que hay dos posibles resultados en cada ensayo (éxito o fracaso), como en la toma de decisiones de clientes en finanzas. La distribución binomial es útil para evaluar probabilidades y optimizar estrategias comerciales.\n"
   ]
  }
 ],
 "metadata": {
  "kernelspec": {
   "display_name": "datascience_technical_test_37",
   "language": "python",
   "name": "python3"
  },
  "language_info": {
   "codemirror_mode": {
    "name": "ipython",
    "version": 3
   },
   "file_extension": ".py",
   "mimetype": "text/x-python",
   "name": "python",
   "nbconvert_exporter": "python",
   "pygments_lexer": "ipython3",
   "version": "3.13.2"
  }
 },
 "nbformat": 4,
 "nbformat_minor": 2
}
